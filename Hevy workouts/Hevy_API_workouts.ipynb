{
 "cells": [
  {
   "cell_type": "markdown",
   "metadata": {},
   "source": [
    "# Import libraries"
   ]
  },
  {
   "cell_type": "code",
   "execution_count": 54,
   "metadata": {},
   "outputs": [],
   "source": [
    "import requests\n",
    "import configparser\n",
    "import pandas as pd\n",
    "import math"
   ]
  },
  {
   "cell_type": "markdown",
   "metadata": {},
   "source": [
    "# Load credentials"
   ]
  },
  {
   "cell_type": "code",
   "execution_count": 22,
   "metadata": {},
   "outputs": [],
   "source": [
    "# Define credentials\n",
    "config = configparser.ConfigParser()\n",
    "config.read('config.ini')\n",
    "# Get Hevy API key\n",
    "hevy_api_key = config['Hevy']['API_KEY']\n"
   ]
  },
  {
   "cell_type": "markdown",
   "metadata": {},
   "source": [
    "# Get workouts count"
   ]
  },
  {
   "cell_type": "code",
   "execution_count": 51,
   "metadata": {},
   "outputs": [],
   "source": [
    "def get_workout_count():\n",
    "    url = f'https://api.hevyapp.com/v1/workouts/count'\n",
    "    headers = {\n",
    "        'accept': 'application/json',\n",
    "        'api-key': hevy_api_key\n",
    "    }\n",
    "\n",
    "    response = requests.get(url, headers=headers)\n",
    "\n",
    "    if response.status_code == 200:\n",
    "        data = response.json()\n",
    "        print('Workout count:', data['workout_count'])\n",
    "        return int(data['workout_count'])\n",
    "    else:\n",
    "        print(f\"Failed to retrieve data: {response.status_code}\")"
   ]
  },
  {
   "cell_type": "code",
   "execution_count": 52,
   "metadata": {},
   "outputs": [
    {
     "name": "stdout",
     "output_type": "stream",
     "text": [
      "Workout count: 119\n"
     ]
    }
   ],
   "source": [
    "workout_count = get_workout_count()"
   ]
  },
  {
   "cell_type": "markdown",
   "metadata": {},
   "source": [
    "# Get workouts data"
   ]
  },
  {
   "cell_type": "code",
   "execution_count": 94,
   "metadata": {},
   "outputs": [],
   "source": [
    "def get_workouts(page = int, pageSize = int):\n",
    "    ''' \n",
    "    Fetches workout data from the Hevy API and organizes it into DataFrames.\n",
    "\n",
    "    Parameters:\n",
    "    - page (int): The page number to start fetching workouts from (1-indexed).\n",
    "                   Must be an integer greater than  1.\n",
    "    - pageSize (int): The number of workouts to fetch per page.\n",
    "                      Must be an integer in the range [1, 10] and greater than 'page'.\n",
    "\n",
    "    Returns:\n",
    "    - df_workouts (pd.DataFrame): A DataFrame containing distinct workout details.\n",
    "    - df_exercises (pd.DataFrame): A DataFrame containing details of exercises performed during the workouts.\n",
    "    - df_sets (pd.DataFrame): A DataFrame containing details of each set performed within the exercises\n",
    "    '''\n",
    "\n",
    "    if not (1 <= page):\n",
    "        raise ValueError(\"Page must be greater than 1.\")\n",
    "    #if not (1 <= pageSize <= 10):\n",
    "    #    raise ValueError(\"PageSize must be in the range [1, 10].\")\n",
    "\n",
    "    url = f'https://api.hevyapp.com/v1/workouts?page={page}&pageSize={pageSize}&since=1970-01-01T00%3A00%3A00Z'\n",
    "    headers = {\n",
    "        'accept': 'application/json',\n",
    "        'api-key': hevy_api_key\n",
    "    }\n",
    "\n",
    "    response = requests.get(url, headers=headers)\n",
    "\n",
    "    if response.status_code == 200:\n",
    "        data = response.json()\n",
    "        workouts = data['workouts']\n",
    "\n",
    "        # Initialize lists to collect data\n",
    "        workout_list = []\n",
    "        exercise_list = []\n",
    "        set_list = []\n",
    "\n",
    "        # Loop through workouts\n",
    "        for workout in workouts:\n",
    "            workout_id = workout['id']\n",
    "            workout_title = workout['title']\n",
    "            workout_description = workout['description']\n",
    "            start_time = workout['start_time']\n",
    "            end_time = workout['end_time']\n",
    "\n",
    "            # Add workout to the list\n",
    "            workout_list.append({\n",
    "                'workout_id': workout_id,\n",
    "                'title': workout_title,\n",
    "                'description': workout_description,\n",
    "                'start_time': start_time,\n",
    "                'end_time': end_time\n",
    "            })\n",
    "\n",
    "            # Loop through exercises\n",
    "            for exercise in workout['exercises']:\n",
    "                exercise_index = exercise['index']\n",
    "                exercise_title = exercise['title']\n",
    "                exercise_notes = exercise['notes']\n",
    "                exercise_template_id = exercise['exercise_template_id']\n",
    "                superset_id = exercise['superset_id']\n",
    "\n",
    "                # Add exercise to the list\n",
    "                exercise_list.append({\n",
    "                    'workout_id': workout_id,\n",
    "                    'exercise_index': exercise_index,\n",
    "                    'title': exercise_title,\n",
    "                    'notes': exercise_notes,\n",
    "                    'exercise_template_id': exercise_template_id,\n",
    "                    'superset_id': superset_id\n",
    "                })\n",
    "\n",
    "                # Loop through sets\n",
    "                for set_ in exercise['sets']:\n",
    "                    set_index = set_['index']\n",
    "                    set_type = set_['set_type']\n",
    "                    weight_kg = set_['weight_kg']\n",
    "                    reps = set_['reps']\n",
    "                    distance_meters = set_['distance_meters']\n",
    "                    duration_seconds = set_['duration_seconds']\n",
    "                    rpe = set_['rpe']\n",
    "\n",
    "                    # Add set to the list\n",
    "                    set_list.append({\n",
    "                        'workout_id': workout_id,\n",
    "                        'exercise_index': exercise_index,\n",
    "                        'set_index': set_index,\n",
    "                        'set_type': set_type,\n",
    "                        'weight_kg': weight_kg,\n",
    "                        'reps': reps,\n",
    "                        'distance_meters': distance_meters,\n",
    "                        'duration_seconds': duration_seconds,\n",
    "                        'rpe': rpe\n",
    "                    })\n",
    "\n",
    "        # Create DataFrames\n",
    "        df_workouts = pd.DataFrame(workout_list)\n",
    "        df_exercises = pd.DataFrame(exercise_list)\n",
    "        df_sets = pd.DataFrame(set_list)\n",
    "        return df_workouts, df_exercises, df_sets\n",
    "    else:\n",
    "        print(f\"Failed to retrieve data: {response.status_code}\")"
   ]
  },
  {
   "cell_type": "code",
   "execution_count": 114,
   "metadata": {},
   "outputs": [
    {
     "name": "stderr",
     "output_type": "stream",
     "text": [
      "C:\\Users\\MikolajPawlak\\AppData\\Local\\Temp\\ipykernel_23144\\2460277354.py:10: FutureWarning: The behavior of DataFrame concatenation with empty or all-NA entries is deprecated. In a future version, this will no longer exclude empty or all-NA columns when determining the result dtypes. To retain the old behavior, exclude the relevant entries before the concat operation.\n",
      "  df_exercises = pd.concat([df_exercises, df_exercises_temp], ignore_index=True, sort=False)\n",
      "C:\\Users\\MikolajPawlak\\AppData\\Local\\Temp\\ipykernel_23144\\2460277354.py:11: FutureWarning: The behavior of DataFrame concatenation with empty or all-NA entries is deprecated. In a future version, this will no longer exclude empty or all-NA columns when determining the result dtypes. To retain the old behavior, exclude the relevant entries before the concat operation.\n",
      "  df_sets = pd.concat([df_sets, df_sets_temp], ignore_index=True, sort=False)\n"
     ]
    }
   ],
   "source": [
    "df_workouts = pd.DataFrame()\n",
    "df_exercises = pd.DataFrame()\n",
    "df_sets = pd.DataFrame()\n",
    "\n",
    "for page in range(math.ceil(workout_count/10)):\n",
    "    page = page + 1 \n",
    "    df_workouts_temp, df_exercises_temp, df_sets_temp = get_workouts(page,10)\n",
    "\n",
    "    df_workouts = pd.concat([df_workouts, df_workouts_temp], ignore_index=True)\n",
    "    df_exercises = pd.concat([df_exercises, df_exercises_temp], ignore_index=True)\n",
    "    df_sets = pd.concat([df_sets, df_sets_temp], ignore_index=True)\n",
    "    "
   ]
  },
  {
   "cell_type": "markdown",
   "metadata": {},
   "source": [
    "## Inspect results"
   ]
  },
  {
   "cell_type": "code",
   "execution_count": 121,
   "metadata": {},
   "outputs": [
    {
     "name": "stdout",
     "output_type": "stream",
     "text": [
      "Workouts len:  119\n"
     ]
    },
    {
     "data": {
      "text/html": [
       "<div>\n",
       "<style scoped>\n",
       "    .dataframe tbody tr th:only-of-type {\n",
       "        vertical-align: middle;\n",
       "    }\n",
       "\n",
       "    .dataframe tbody tr th {\n",
       "        vertical-align: top;\n",
       "    }\n",
       "\n",
       "    .dataframe thead th {\n",
       "        text-align: right;\n",
       "    }\n",
       "</style>\n",
       "<table border=\"1\" class=\"dataframe\">\n",
       "  <thead>\n",
       "    <tr style=\"text-align: right;\">\n",
       "      <th></th>\n",
       "      <th>workout_id</th>\n",
       "      <th>title</th>\n",
       "      <th>description</th>\n",
       "      <th>start_time</th>\n",
       "      <th>end_time</th>\n",
       "    </tr>\n",
       "  </thead>\n",
       "  <tbody>\n",
       "    <tr>\n",
       "      <th>7</th>\n",
       "      <td>97e43acd-04b3-49c6-b8cc-4a083780e055</td>\n",
       "      <td>Wieczorny bieg, 6:02min/km</td>\n",
       "      <td></td>\n",
       "      <td>2024-05-21T19:34:37+00:00</td>\n",
       "      <td>2024-05-21T20:01:24+00:00</td>\n",
       "    </tr>\n",
       "    <tr>\n",
       "      <th>8</th>\n",
       "      <td>3dc499ea-e4c5-4c4b-b1d4-4e4baea6fe7a</td>\n",
       "      <td>Jest trening jest kebab</td>\n",
       "      <td></td>\n",
       "      <td>2024-05-19T11:23:04+00:00</td>\n",
       "      <td>2024-05-19T15:21:02+00:00</td>\n",
       "    </tr>\n",
       "    <tr>\n",
       "      <th>9</th>\n",
       "      <td>75c7eba1-2982-45fe-b873-4cd7bd6989e4</td>\n",
       "      <td>Wieczorny trucht</td>\n",
       "      <td></td>\n",
       "      <td>2024-05-16T21:28:43+00:00</td>\n",
       "      <td>2024-05-16T21:57:51+00:00</td>\n",
       "    </tr>\n",
       "  </tbody>\n",
       "</table>\n",
       "</div>"
      ],
      "text/plain": [
       "                             workout_id                       title  \\\n",
       "7  97e43acd-04b3-49c6-b8cc-4a083780e055  Wieczorny bieg, 6:02min/km   \n",
       "8  3dc499ea-e4c5-4c4b-b1d4-4e4baea6fe7a     Jest trening jest kebab   \n",
       "9  75c7eba1-2982-45fe-b873-4cd7bd6989e4            Wieczorny trucht   \n",
       "\n",
       "  description                 start_time                   end_time  \n",
       "7              2024-05-21T19:34:37+00:00  2024-05-21T20:01:24+00:00  \n",
       "8              2024-05-19T11:23:04+00:00  2024-05-19T15:21:02+00:00  \n",
       "9              2024-05-16T21:28:43+00:00  2024-05-16T21:57:51+00:00  "
      ]
     },
     "execution_count": 121,
     "metadata": {},
     "output_type": "execute_result"
    }
   ],
   "source": [
    "print('Workouts len: ', len(df_workouts))\n",
    "df_workouts.iloc[7:10]"
   ]
  },
  {
   "cell_type": "code",
   "execution_count": 117,
   "metadata": {},
   "outputs": [
    {
     "name": "stdout",
     "output_type": "stream",
     "text": [
      "Excercises len:  693\n"
     ]
    },
    {
     "data": {
      "text/html": [
       "<div>\n",
       "<style scoped>\n",
       "    .dataframe tbody tr th:only-of-type {\n",
       "        vertical-align: middle;\n",
       "    }\n",
       "\n",
       "    .dataframe tbody tr th {\n",
       "        vertical-align: top;\n",
       "    }\n",
       "\n",
       "    .dataframe thead th {\n",
       "        text-align: right;\n",
       "    }\n",
       "</style>\n",
       "<table border=\"1\" class=\"dataframe\">\n",
       "  <thead>\n",
       "    <tr style=\"text-align: right;\">\n",
       "      <th></th>\n",
       "      <th>workout_id</th>\n",
       "      <th>exercise_index</th>\n",
       "      <th>title</th>\n",
       "      <th>notes</th>\n",
       "      <th>exercise_template_id</th>\n",
       "      <th>superset_id</th>\n",
       "    </tr>\n",
       "  </thead>\n",
       "  <tbody>\n",
       "    <tr>\n",
       "      <th>10</th>\n",
       "      <td>631654b9-da99-4512-8c41-f93e2b4fff6d</td>\n",
       "      <td>1</td>\n",
       "      <td>Pull Up</td>\n",
       "      <td></td>\n",
       "      <td>1B2B1E7C</td>\n",
       "      <td>NaN</td>\n",
       "    </tr>\n",
       "    <tr>\n",
       "      <th>11</th>\n",
       "      <td>631654b9-da99-4512-8c41-f93e2b4fff6d</td>\n",
       "      <td>2</td>\n",
       "      <td>Iso-Lateral Row (Machine)</td>\n",
       "      <td></td>\n",
       "      <td>AA1EB7D8</td>\n",
       "      <td>NaN</td>\n",
       "    </tr>\n",
       "    <tr>\n",
       "      <th>12</th>\n",
       "      <td>631654b9-da99-4512-8c41-f93e2b4fff6d</td>\n",
       "      <td>3</td>\n",
       "      <td>Incline Bench Press (Smith Machine)</td>\n",
       "      <td></td>\n",
       "      <td>3A6FA3D1</td>\n",
       "      <td>NaN</td>\n",
       "    </tr>\n",
       "    <tr>\n",
       "      <th>13</th>\n",
       "      <td>631654b9-da99-4512-8c41-f93e2b4fff6d</td>\n",
       "      <td>4</td>\n",
       "      <td>Pullover (Machine)</td>\n",
       "      <td></td>\n",
       "      <td>B123DD01</td>\n",
       "      <td>NaN</td>\n",
       "    </tr>\n",
       "    <tr>\n",
       "      <th>14</th>\n",
       "      <td>631654b9-da99-4512-8c41-f93e2b4fff6d</td>\n",
       "      <td>5</td>\n",
       "      <td>Front Raise (Dumbbell)</td>\n",
       "      <td></td>\n",
       "      <td>8293E554</td>\n",
       "      <td>NaN</td>\n",
       "    </tr>\n",
       "  </tbody>\n",
       "</table>\n",
       "</div>"
      ],
      "text/plain": [
       "                              workout_id  exercise_index  \\\n",
       "10  631654b9-da99-4512-8c41-f93e2b4fff6d               1   \n",
       "11  631654b9-da99-4512-8c41-f93e2b4fff6d               2   \n",
       "12  631654b9-da99-4512-8c41-f93e2b4fff6d               3   \n",
       "13  631654b9-da99-4512-8c41-f93e2b4fff6d               4   \n",
       "14  631654b9-da99-4512-8c41-f93e2b4fff6d               5   \n",
       "\n",
       "                                  title notes exercise_template_id  \\\n",
       "10                              Pull Up                   1B2B1E7C   \n",
       "11            Iso-Lateral Row (Machine)                   AA1EB7D8   \n",
       "12  Incline Bench Press (Smith Machine)                   3A6FA3D1   \n",
       "13                   Pullover (Machine)                   B123DD01   \n",
       "14               Front Raise (Dumbbell)                   8293E554   \n",
       "\n",
       "    superset_id  \n",
       "10          NaN  \n",
       "11          NaN  \n",
       "12          NaN  \n",
       "13          NaN  \n",
       "14          NaN  "
      ]
     },
     "execution_count": 117,
     "metadata": {},
     "output_type": "execute_result"
    }
   ],
   "source": [
    "print('Excercises len: ', len(df_exercises))\n",
    "df_exercises.iloc[10:15]"
   ]
  },
  {
   "cell_type": "code",
   "execution_count": 104,
   "metadata": {},
   "outputs": [
    {
     "name": "stdout",
     "output_type": "stream",
     "text": [
      "Sets len:  2764\n"
     ]
    },
    {
     "data": {
      "text/html": [
       "<div>\n",
       "<style scoped>\n",
       "    .dataframe tbody tr th:only-of-type {\n",
       "        vertical-align: middle;\n",
       "    }\n",
       "\n",
       "    .dataframe tbody tr th {\n",
       "        vertical-align: top;\n",
       "    }\n",
       "\n",
       "    .dataframe thead th {\n",
       "        text-align: right;\n",
       "    }\n",
       "</style>\n",
       "<table border=\"1\" class=\"dataframe\">\n",
       "  <thead>\n",
       "    <tr style=\"text-align: right;\">\n",
       "      <th></th>\n",
       "      <th>workout_id</th>\n",
       "      <th>exercise_index</th>\n",
       "      <th>set_index</th>\n",
       "      <th>set_type</th>\n",
       "      <th>weight_kg</th>\n",
       "      <th>reps</th>\n",
       "      <th>distance_meters</th>\n",
       "      <th>duration_seconds</th>\n",
       "      <th>rpe</th>\n",
       "    </tr>\n",
       "  </thead>\n",
       "  <tbody>\n",
       "    <tr>\n",
       "      <th>0</th>\n",
       "      <td>5fec8b04-aa57-44ca-bfab-8b64e9f0459e</td>\n",
       "      <td>0</td>\n",
       "      <td>0</td>\n",
       "      <td>warmup</td>\n",
       "      <td>30.0</td>\n",
       "      <td>20.0</td>\n",
       "      <td>NaN</td>\n",
       "      <td>NaN</td>\n",
       "      <td>None</td>\n",
       "    </tr>\n",
       "    <tr>\n",
       "      <th>1</th>\n",
       "      <td>5fec8b04-aa57-44ca-bfab-8b64e9f0459e</td>\n",
       "      <td>0</td>\n",
       "      <td>1</td>\n",
       "      <td>normal</td>\n",
       "      <td>70.0</td>\n",
       "      <td>6.0</td>\n",
       "      <td>NaN</td>\n",
       "      <td>NaN</td>\n",
       "      <td>None</td>\n",
       "    </tr>\n",
       "    <tr>\n",
       "      <th>2</th>\n",
       "      <td>5fec8b04-aa57-44ca-bfab-8b64e9f0459e</td>\n",
       "      <td>0</td>\n",
       "      <td>2</td>\n",
       "      <td>normal</td>\n",
       "      <td>65.0</td>\n",
       "      <td>8.0</td>\n",
       "      <td>NaN</td>\n",
       "      <td>NaN</td>\n",
       "      <td>None</td>\n",
       "    </tr>\n",
       "    <tr>\n",
       "      <th>3</th>\n",
       "      <td>5fec8b04-aa57-44ca-bfab-8b64e9f0459e</td>\n",
       "      <td>0</td>\n",
       "      <td>3</td>\n",
       "      <td>failure</td>\n",
       "      <td>65.0</td>\n",
       "      <td>8.0</td>\n",
       "      <td>NaN</td>\n",
       "      <td>NaN</td>\n",
       "      <td>None</td>\n",
       "    </tr>\n",
       "    <tr>\n",
       "      <th>4</th>\n",
       "      <td>5fec8b04-aa57-44ca-bfab-8b64e9f0459e</td>\n",
       "      <td>0</td>\n",
       "      <td>4</td>\n",
       "      <td>normal</td>\n",
       "      <td>60.0</td>\n",
       "      <td>9.0</td>\n",
       "      <td>NaN</td>\n",
       "      <td>NaN</td>\n",
       "      <td>None</td>\n",
       "    </tr>\n",
       "  </tbody>\n",
       "</table>\n",
       "</div>"
      ],
      "text/plain": [
       "                             workout_id  exercise_index  set_index set_type  \\\n",
       "0  5fec8b04-aa57-44ca-bfab-8b64e9f0459e               0          0   warmup   \n",
       "1  5fec8b04-aa57-44ca-bfab-8b64e9f0459e               0          1   normal   \n",
       "2  5fec8b04-aa57-44ca-bfab-8b64e9f0459e               0          2   normal   \n",
       "3  5fec8b04-aa57-44ca-bfab-8b64e9f0459e               0          3  failure   \n",
       "4  5fec8b04-aa57-44ca-bfab-8b64e9f0459e               0          4   normal   \n",
       "\n",
       "   weight_kg  reps  distance_meters  duration_seconds   rpe  \n",
       "0       30.0  20.0              NaN               NaN  None  \n",
       "1       70.0   6.0              NaN               NaN  None  \n",
       "2       65.0   8.0              NaN               NaN  None  \n",
       "3       65.0   8.0              NaN               NaN  None  \n",
       "4       60.0   9.0              NaN               NaN  None  "
      ]
     },
     "execution_count": 104,
     "metadata": {},
     "output_type": "execute_result"
    }
   ],
   "source": [
    "print('Sets len: ', len(df_sets))\n",
    "df_sets.head()"
   ]
  },
  {
   "cell_type": "markdown",
   "metadata": {},
   "source": [
    "# Save results"
   ]
  },
  {
   "cell_type": "code",
   "execution_count": 107,
   "metadata": {},
   "outputs": [],
   "source": [
    "# Merge all dataframes\n",
    "df_full = pd.merge(df_workouts, df_exercises, how = 'left', on= 'workout_id')\n",
    "df_full = pd.merge(df_full, df_sets, how = 'left', on= ['workout_id', 'exercise_index'])"
   ]
  },
  {
   "cell_type": "code",
   "execution_count": 122,
   "metadata": {},
   "outputs": [],
   "source": [
    "# Adjust column names\n",
    "df_full.rename(columns={'title_x': 'workout_title', 'title_y': 'excercise_title'}, inplace= True)\n",
    "# Save data to a csv file\n",
    "df_full.to_csv('hevy_workouts.csv')"
   ]
  }
 ],
 "metadata": {
  "kernelspec": {
   "display_name": "myPython",
   "language": "python",
   "name": "python3"
  },
  "language_info": {
   "codemirror_mode": {
    "name": "ipython",
    "version": 3
   },
   "file_extension": ".py",
   "mimetype": "text/x-python",
   "name": "python",
   "nbconvert_exporter": "python",
   "pygments_lexer": "ipython3",
   "version": "3.11.8"
  }
 },
 "nbformat": 4,
 "nbformat_minor": 2
}
