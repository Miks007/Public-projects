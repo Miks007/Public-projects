{
 "cells": [
  {
   "cell_type": "code",
   "execution_count": 27,
   "metadata": {},
   "outputs": [],
   "source": [
    "import cv2\n",
    "import time\n",
    "import pymysql\n",
    "import numpy as np\n",
    "from tkinter import *\n",
    "import settings as st\n",
    "import credentials as cr\n",
    "import face_recognition as f\n",
    "import videoStream as vs\n",
    "import multiprocessing as mp\n",
    "from datetime import datetime\n",
    "from tkinter import messagebox\n",
    "from playsound import playsound\n"
   ]
  },
  {
   "cell_type": "code",
   "execution_count": 37,
   "metadata": {},
   "outputs": [],
   "source": [
    "class LoginSystem:\n",
    "    def __init__(self, root):\n",
    "        self.window = root\n",
    "        self.window.title(\"Login System\")\n",
    "        self.window.geometry(\"1080x780\")\n",
    "        self.window.config(bg=st.color1)\n",
    "        self.window.resizable(width = False, height = False)\n",
    "\n",
    "        # Declaring a variable with a default value\n",
    "        self.status = False\n",
    "\n",
    "            # Left Frame\n",
    "        self.frame1 = Frame(self.window, bg= '#999999')\n",
    "        self.frame1.place(x=0, y=0, width=540, relheight = 1)\n",
    "\n",
    "        # Right Frame\n",
    "        self.frame2 = Frame(self.window, bg = 'white')\n",
    "        self.frame2.place(x=540,y=0,relwidth=1, relheight=1)\n",
    "\n",
    "        # Calling the function called buttons()\n",
    "        #self.buttons()"
   ]
  },
  {
   "cell_type": "code",
   "execution_count": 38,
   "metadata": {},
   "outputs": [
    {
     "ename": "TclError",
     "evalue": "unknown color name \"0.4666666666666667 0.4666666666666667 0.4666666666666667\"",
     "output_type": "error",
     "traceback": [
      "\u001b[1;31m---------------------------------------------------------------------------\u001b[0m",
      "\u001b[1;31mTclError\u001b[0m                                  Traceback (most recent call last)",
      "Cell \u001b[1;32mIn[38], line 3\u001b[0m\n\u001b[0;32m      1\u001b[0m \u001b[38;5;66;03m# Create the Tkinter window and initialize the LoginSystem class\u001b[39;00m\n\u001b[0;32m      2\u001b[0m root \u001b[38;5;241m=\u001b[39m Tk()\n\u001b[1;32m----> 3\u001b[0m app \u001b[38;5;241m=\u001b[39m LoginSystem(root)\n\u001b[0;32m      5\u001b[0m \u001b[38;5;66;03m# Run the Tkinter main loop\u001b[39;00m\n\u001b[0;32m      6\u001b[0m root\u001b[38;5;241m.\u001b[39mmainloop()\n",
      "Cell \u001b[1;32mIn[37], line 6\u001b[0m, in \u001b[0;36mLoginSystem.__init__\u001b[1;34m(self, root)\u001b[0m\n\u001b[0;32m      4\u001b[0m \u001b[38;5;28mself\u001b[39m\u001b[38;5;241m.\u001b[39mwindow\u001b[38;5;241m.\u001b[39mtitle(\u001b[38;5;124m\"\u001b[39m\u001b[38;5;124mLogin System\u001b[39m\u001b[38;5;124m\"\u001b[39m)\n\u001b[0;32m      5\u001b[0m \u001b[38;5;28mself\u001b[39m\u001b[38;5;241m.\u001b[39mwindow\u001b[38;5;241m.\u001b[39mgeometry(\u001b[38;5;124m\"\u001b[39m\u001b[38;5;124m1080x780\u001b[39m\u001b[38;5;124m\"\u001b[39m)\n\u001b[1;32m----> 6\u001b[0m \u001b[38;5;28mself\u001b[39m\u001b[38;5;241m.\u001b[39mwindow\u001b[38;5;241m.\u001b[39mconfig(bg\u001b[38;5;241m=\u001b[39mst\u001b[38;5;241m.\u001b[39mcolor1)\n\u001b[0;32m      7\u001b[0m \u001b[38;5;28mself\u001b[39m\u001b[38;5;241m.\u001b[39mwindow\u001b[38;5;241m.\u001b[39mresizable(width \u001b[38;5;241m=\u001b[39m \u001b[38;5;28;01mFalse\u001b[39;00m, height \u001b[38;5;241m=\u001b[39m \u001b[38;5;28;01mFalse\u001b[39;00m)\n\u001b[0;32m      9\u001b[0m \u001b[38;5;66;03m# Declaring a variable with a default value\u001b[39;00m\n",
      "File \u001b[1;32mc:\\Users\\MikolajPawlak\\miniconda3\\envs\\Image\\Lib\\tkinter\\__init__.py:1702\u001b[0m, in \u001b[0;36mMisc.configure\u001b[1;34m(self, cnf, **kw)\u001b[0m\n\u001b[0;32m   1695\u001b[0m \u001b[38;5;28;01mdef\u001b[39;00m \u001b[38;5;21mconfigure\u001b[39m(\u001b[38;5;28mself\u001b[39m, cnf\u001b[38;5;241m=\u001b[39m\u001b[38;5;28;01mNone\u001b[39;00m, \u001b[38;5;241m*\u001b[39m\u001b[38;5;241m*\u001b[39mkw):\n\u001b[0;32m   1696\u001b[0m \u001b[38;5;250m    \u001b[39m\u001b[38;5;124;03m\"\"\"Configure resources of a widget.\u001b[39;00m\n\u001b[0;32m   1697\u001b[0m \n\u001b[0;32m   1698\u001b[0m \u001b[38;5;124;03m    The values for resources are specified as keyword\u001b[39;00m\n\u001b[0;32m   1699\u001b[0m \u001b[38;5;124;03m    arguments. To get an overview about\u001b[39;00m\n\u001b[0;32m   1700\u001b[0m \u001b[38;5;124;03m    the allowed keyword arguments call the method keys.\u001b[39;00m\n\u001b[0;32m   1701\u001b[0m \u001b[38;5;124;03m    \"\"\"\u001b[39;00m\n\u001b[1;32m-> 1702\u001b[0m     \u001b[38;5;28;01mreturn\u001b[39;00m \u001b[38;5;28mself\u001b[39m\u001b[38;5;241m.\u001b[39m_configure(\u001b[38;5;124m'\u001b[39m\u001b[38;5;124mconfigure\u001b[39m\u001b[38;5;124m'\u001b[39m, cnf, kw)\n",
      "File \u001b[1;32mc:\\Users\\MikolajPawlak\\miniconda3\\envs\\Image\\Lib\\tkinter\\__init__.py:1692\u001b[0m, in \u001b[0;36mMisc._configure\u001b[1;34m(self, cmd, cnf, kw)\u001b[0m\n\u001b[0;32m   1690\u001b[0m \u001b[38;5;28;01mif\u001b[39;00m \u001b[38;5;28misinstance\u001b[39m(cnf, \u001b[38;5;28mstr\u001b[39m):\n\u001b[0;32m   1691\u001b[0m     \u001b[38;5;28;01mreturn\u001b[39;00m \u001b[38;5;28mself\u001b[39m\u001b[38;5;241m.\u001b[39m_getconfigure1(_flatten((\u001b[38;5;28mself\u001b[39m\u001b[38;5;241m.\u001b[39m_w, cmd, \u001b[38;5;124m'\u001b[39m\u001b[38;5;124m-\u001b[39m\u001b[38;5;124m'\u001b[39m\u001b[38;5;241m+\u001b[39mcnf)))\n\u001b[1;32m-> 1692\u001b[0m \u001b[38;5;28mself\u001b[39m\u001b[38;5;241m.\u001b[39mtk\u001b[38;5;241m.\u001b[39mcall(_flatten((\u001b[38;5;28mself\u001b[39m\u001b[38;5;241m.\u001b[39m_w, cmd)) \u001b[38;5;241m+\u001b[39m \u001b[38;5;28mself\u001b[39m\u001b[38;5;241m.\u001b[39m_options(cnf))\n",
      "\u001b[1;31mTclError\u001b[0m: unknown color name \"0.4666666666666667 0.4666666666666667 0.4666666666666667\""
     ]
    }
   ],
   "source": [
    "# Create the Tkinter window and initialize the LoginSystem class\n",
    "root = Tk()\n",
    "app = LoginSystem(root)\n",
    "\n",
    "# Run the Tkinter main loop\n",
    "root.mainloop()"
   ]
  },
  {
   "cell_type": "code",
   "execution_count": null,
   "metadata": {},
   "outputs": [],
   "source": []
  },
  {
   "cell_type": "code",
   "execution_count": null,
   "metadata": {},
   "outputs": [],
   "source": []
  },
  {
   "cell_type": "code",
   "execution_count": 16,
   "metadata": {},
   "outputs": [
    {
     "data": {
      "image/png": "[encoded data removed]",
      "text/plain": [
       "<Figure size 640x480 with 1 Axes>"
      ]
     },
     "metadata": {},
     "output_type": "display_data"
    }
   ],
   "source": [
    "import numpy as np\n",
    "import matplotlib.pyplot as plt\n",
    "import matplotlib.patches as patches\n",
    "\n",
    "# Create a white image\n",
    "image = np.ones((100, 100, 3), dtype=np.uint8) * 255  # 100x100 white image\n",
    "\n",
    "# Define the rectangle color (RGB: 119, 119, 119)\n",
    "rectangle_color = (119/255, 119/255, 119/255)  # Normalize RGB values\n",
    "\n",
    "# Create a rectangle with the specified color\n",
    "rectangle = patches.Rectangle((10, 10), 30, 30, linewidth=2, edgecolor=rectangle_color, facecolor=rectangle_color)\n",
    "\n",
    "# Add the rectangle to the image\n",
    "fig, ax = plt.subplots()\n",
    "ax.imshow(image)\n",
    "ax.add_patch(rectangle)\n",
    "\n",
    "# Display the image with the rectangle\n",
    "plt.axis('off')\n",
    "plt.show()\n"
   ]
  },
  {
   "cell_type": "code",
   "execution_count": null,
   "metadata": {},
   "outputs": [],
   "source": []
  }
 ],
 "metadata": {
  "kernelspec": {
   "display_name": "Image",
   "language": "python",
   "name": "python3"
  },
  "language_info": {
   "codemirror_mode": {
    "name": "ipython",
    "version": 3
   },
   "file_extension": ".py",
   "mimetype": "text/x-python",
   "name": "python",
   "nbconvert_exporter": "python",
   "pygments_lexer": "ipython3",
   "version": "3.11.5"
  }
 },
 "nbformat": 4,
 "nbformat_minor": 2
}
