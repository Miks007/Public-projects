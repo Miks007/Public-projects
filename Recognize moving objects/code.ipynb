{
 "cells": [
  {
   "cell_type": "markdown",
   "metadata": {},
   "source": [
    "https://www.udemy.com/course/modern-computer-vision/learn/lecture/31048570#content"
   ]
  },
  {
   "cell_type": "markdown",
   "metadata": {},
   "source": [
    "https://www.udemy.com/course/modern-computer-vision/learn/lecture/31048604#content"
   ]
  },
  {
   "cell_type": "code",
   "execution_count": 1,
   "metadata": {},
   "outputs": [],
   "source": [
    "# Our Setup, Import Libaries, Create our Imshow Function and Download our Images\n",
    "import cv2\n",
    "import numpy as np\n",
    "from matplotlib import pyplot as plt\n",
    "from IPython.display import Video\n",
    "# from google.colab.patches import cv2_imshow\n",
    "\n",
    "# Define our imshow function \n",
    "def imshow(title = \"Image\", image = None, size = 10):\n",
    "    w, h = image.shape[0], image.shape[1]\n",
    "    aspect_ratio = w/h\n",
    "    plt.figure(figsize=(size * aspect_ratio,size))\n",
    "    plt.imshow(cv2.cvtColor(image, cv2.COLOR_BGR2RGB))\n",
    "    plt.title(title)\n",
    "    plt.show()"
   ]
  },
  {
   "cell_type": "code",
   "execution_count": 2,
   "metadata": {},
   "outputs": [
    {
     "data": {
      "text/html": [
       "<video src=\"cars_on_highway_short_version.mp4\" controls  width=\"700\" >\n",
       "      Your browser does not support the <code>video</code> element.\n",
       "    </video>"
      ],
      "text/plain": [
       "<IPython.core.display.Video object>"
      ]
     },
     "execution_count": 2,
     "metadata": {},
     "output_type": "execute_result"
    }
   ],
   "source": [
    "from IPython.display import Video\n",
    "Video('cars_on_highway_short_version.mp4', width = 700)"
   ]
  },
  {
   "cell_type": "code",
   "execution_count": null,
   "metadata": {},
   "outputs": [],
   "source": [
    "## NEED TO RECOGNIZE CARS FIRST AND THEN TRACK THEIR MOVEMENT"
   ]
  },
  {
   "cell_type": "code",
   "execution_count": 20,
   "metadata": {},
   "outputs": [],
   "source": [
    "# Load video stream\n",
    "cap = cv2.VideoCapture('cars_on_highway_short_version.mp4')\n",
    "\n",
    "# Get the height and width of the frame (required to be an interger)\n",
    "width = int(cap.get(3)) \n",
    "height = int(cap.get(4))\n",
    "\n",
    "# Define the codec and create VideoWriter object. The output is stored in '*.avi' file.\n",
    "out = cv2.VideoWriter('cars_on_highway_short_version2.avi', cv2.VideoWriter_fourcc('M','J','P','G'), 30, (width, height))\n",
    "\n",
    "# Set parameters for ShiTomasi corner detection\n",
    "feature_params = dict( maxCorners = 100,\n",
    "                       qualityLevel = 0.3,\n",
    "                       minDistance = 7,\n",
    "                       blockSize = 7 )\n",
    "\n",
    "# Set parameters for lucas kanade optical flow\n",
    "lucas_kanade_params = dict( winSize  = (15,15),\n",
    "                  maxLevel = 2,\n",
    "                  criteria = (cv2.TERM_CRITERIA_EPS | cv2.TERM_CRITERIA_COUNT, 10, 0.03))\n",
    "\n",
    "# Create some random colors\n",
    "# Used to create our trails for object movement in the image \n",
    "color = np.random.randint(0,255,(100,3))\n",
    "\n",
    "# Take first frame and find corners in it\n",
    "ret, prev_frame = cap.read()\n",
    "prev_gray = cv2.cvtColor(prev_frame, cv2.COLOR_BGR2GRAY)\n",
    "\n",
    "# Find inital corner locations\n",
    "prev_corners = cv2.goodFeaturesToTrack(prev_gray, mask = None, **feature_params)\n",
    "\n",
    "# Create a mask image for drawing purposes\n",
    "mask = np.zeros_like(prev_frame)\n",
    "\n",
    "while(1):\n",
    "    ret, frame = cap.read()\n",
    "\n",
    "    if ret == True:\n",
    "      frame_gray = cv2.cvtColor(frame, cv2.COLOR_BGR2GRAY)\n",
    "\n",
    "      # calculate optical flow\n",
    "      new_corners, status, errors = cv2.calcOpticalFlowPyrLK(prev_gray, \n",
    "                                                            frame_gray, \n",
    "                                                            prev_corners, \n",
    "                                                            None, \n",
    "                                                            **lucas_kanade_params)\n",
    "\n",
    "      # Select and store good points\n",
    "      good_new = new_corners[status==1]\n",
    "      good_old = prev_corners[status==1]\n",
    "\n",
    "      # Draw the tracks\n",
    "      for i,(new,old) in enumerate(zip(good_new, good_old)):\n",
    "          a, b = new.ravel().astype(int)\n",
    "          c, d = old.ravel().astype(int)\n",
    "          mask = cv2.line(mask, (a,b),(c,d), color[i].tolist(), 2)\n",
    "          frame = cv2.circle(frame, (a,b), 5, color[i].tolist(),-1)\n",
    "          \n",
    "      img = cv2.add(frame,mask)\n",
    "\n",
    "      # Save Video\n",
    "      out.write(img)\n",
    "      # Show Optical Flow\n",
    "      #imshow('Optical Flow - Lucas-Kanade',img)\n",
    "\n",
    "      # Now update the previous frame and previous points\n",
    "      prev_gray = frame_gray.copy()\n",
    "      prev_corners = good_new.reshape(-1,1,2)\n",
    "\n",
    "    else:\n",
    "      break\n",
    "    \n",
    "cap.release()\n",
    "out.release()"
   ]
  },
  {
   "cell_type": "code",
   "execution_count": 27,
   "metadata": {},
   "outputs": [],
   "source": [
    "# Read the AVI file\n",
    "video = cv2.VideoCapture(\"cars_on_highway_short_version2.avi\")\n",
    "\n",
    "# Loop through the video frames and display them\n",
    "while video.isOpened():\n",
    "    ret, frame = video.read()\n",
    "    if not ret:\n",
    "        break\n",
    "    cv2.imshow('Frame', frame)\n",
    "    if cv2.waitKey(25) & 0xFF == ord('q'):\n",
    "        break\n",
    "\n",
    "video.release()\n",
    "cv2.destroyAllWindows()"
   ]
  },
  {
   "cell_type": "code",
   "execution_count": null,
   "metadata": {},
   "outputs": [],
   "source": []
  }
 ],
 "metadata": {
  "kernelspec": {
   "display_name": "Image",
   "language": "python",
   "name": "python3"
  },
  "language_info": {
   "codemirror_mode": {
    "name": "ipython",
    "version": 3
   },
   "file_extension": ".py",
   "mimetype": "text/x-python",
   "name": "python",
   "nbconvert_exporter": "python",
   "pygments_lexer": "ipython3",
   "version": "3.11.5"
  }
 },
 "nbformat": 4,
 "nbformat_minor": 2
}
